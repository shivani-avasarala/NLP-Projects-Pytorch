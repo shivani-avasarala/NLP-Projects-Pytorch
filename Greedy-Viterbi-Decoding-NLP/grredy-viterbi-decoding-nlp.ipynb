{
 "cells": [
  {
   "cell_type": "code",
   "execution_count": 1,
   "id": "7cda42a3",
   "metadata": {},
   "outputs": [],
   "source": [
    "import pandas as pd\n",
    "import numpy as np"
   ]
  },
  {
   "cell_type": "markdown",
   "id": "af0e1751",
   "metadata": {},
   "source": [
    "# Task 1: Vocabulary Creation"
   ]
  },
  {
   "cell_type": "code",
   "execution_count": 196,
   "id": "83acf7ab",
   "metadata": {},
   "outputs": [],
   "source": [
    "train = pd.read_csv(\"data/train\", sep='\\t', header=None, names=['index', 'word', 'postag'])"
   ]
  },
  {
   "cell_type": "code",
   "execution_count": 197,
   "id": "6e20d845",
   "metadata": {},
   "outputs": [],
   "source": [
    "vocabulary = {}\n",
    "def create_vocab(word, vocabulary):\n",
    "    if word in vocabulary:\n",
    "        vocabulary[word] += 1\n",
    "    else:\n",
    "        vocabulary[word] = 1 \n",
    "    return word\n",
    "\n",
    "train['word_duplicate'] = train['word'].apply(lambda x: create_vocab(x, vocabulary))"
   ]
  },
  {
   "cell_type": "code",
   "execution_count": 198,
   "id": "9946f0e1",
   "metadata": {},
   "outputs": [],
   "source": [
    "def filter_vocab(vocabulary, threshold):\n",
    "    filtered_vocabulary = {}\n",
    "    filtered_vocabulary['< unk >'] = 0\n",
    "    \n",
    "    for word, value in vocabulary.items():\n",
    "        if value <= threshold:\n",
    "            filtered_vocabulary['< unk >'] += value\n",
    "        else:\n",
    "            filtered_vocabulary[word] = value\n",
    "    \n",
    "    return dict(sorted(filtered_vocabulary.items(), key = lambda x:x[1], reverse=True))\n",
    "            \n",
    "threshold = 1\n",
    "vocab = filter_vocab(vocabulary, threshold)          "
   ]
  },
  {
   "cell_type": "code",
   "execution_count": 199,
   "id": "9f01dfbd",
   "metadata": {},
   "outputs": [
    {
     "name": "stdout",
     "output_type": "stream",
     "text": [
      "Size of vocabulary:  23183\n",
      "Number of occurrences of < unk >:  20011\n"
     ]
    }
   ],
   "source": [
    "print(\"Size of vocabulary: \", len(vocab))\n",
    "print(\"Number of occurrences of < unk >: \", vocab['< unk >'])"
   ]
  },
  {
   "cell_type": "code",
   "execution_count": 200,
   "id": "5f7760f9",
   "metadata": {},
   "outputs": [],
   "source": [
    "vocabtxt = open('vocab.txt', 'w')\n",
    "s = '< unk >\\t' + '0' + '\\t' + str(vocab['< unk >']) + '\\n'\n",
    "vocabtxt.write(s)\n",
    "\n",
    "index = 1\n",
    "for word, value in vocab.items():\n",
    "    if word != '< unk >':\n",
    "        s = word + '\\t' + str(index) + '\\t' + str(vocab[word]) + '\\n'\n",
    "        vocabtxt.write(s)\n",
    "        index += 1\n",
    "        \n",
    "vocabtxt.close()"
   ]
  },
  {
   "cell_type": "markdown",
   "id": "97dc9897",
   "metadata": {},
   "source": [
    "# Task 2: Model Learning"
   ]
  },
  {
   "cell_type": "code",
   "execution_count": 201,
   "id": "21ff2734",
   "metadata": {},
   "outputs": [],
   "source": [
    "postag_vocab = {}\n",
    "\n",
    "train['postag_duplicate'] = train['postag'].apply(lambda x: create_vocab(x, postag_vocab))"
   ]
  },
  {
   "cell_type": "code",
   "execution_count": 202,
   "id": "713aaf68",
   "metadata": {},
   "outputs": [
    {
     "name": "stdout",
     "output_type": "stream",
     "text": [
      "{'NNP': 87608, ',': 46480, 'CD': 34876, 'NNS': 57859, 'JJ': 58944, 'MD': 9437, 'VB': 25489, 'DT': 78775, 'NN': 127534, 'IN': 94758, '.': 37883, 'VBZ': 20982, 'VBG': 14348, 'CC': 22817, 'VBD': 28309, 'VBN': 19330, 'RB': 29621, 'TO': 21461, 'PRP': 16766, 'RBR': 1675, 'WDT': 4194, 'VBP': 12326, 'RP': 2515, 'PRP$': 7989, 'JJS': 1867, 'POS': 8284, '``': 6782, 'EX': 833, \"''\": 6622, 'WP': 2285, ':': 4680, 'JJR': 3174, 'WRB': 2050, '$': 6937, 'NNPS': 2505, 'WP$': 166, '-LRB-': 1305, '-RRB-': 1321, 'PDT': 333, 'RBS': 435, 'FW': 224, 'UH': 87, 'SYM': 55, 'LS': 47, '#': 127}\n",
      "45\n"
     ]
    }
   ],
   "source": [
    "print(postag_vocab)\n",
    "print(len(postag_vocab))"
   ]
  },
  {
   "cell_type": "code",
   "execution_count": 203,
   "id": "00effe18",
   "metadata": {},
   "outputs": [],
   "source": [
    "transition_nums = {}\n",
    "postags_extracted = train['postag'].values\n",
    "\n",
    "ptesize = postags_extracted.shape[0]\n",
    "\n",
    "for i in range(1,ptesize):\n",
    "    sstuple = (postags_extracted[i-1], postags_extracted[i])\n",
    "    if sstuple in transition_nums:\n",
    "        transition_nums[sstuple] += 1\n",
    "    else:\n",
    "        transition_nums[sstuple] = 1"
   ]
  },
  {
   "cell_type": "code",
   "execution_count": 204,
   "id": "7673ddc7",
   "metadata": {},
   "outputs": [],
   "source": [
    "emission_nums = {}\n",
    "words_extracted = train['word'].values\n",
    "\n",
    "for i in range(0,ptesize):\n",
    "    word = words_extracted[i]\n",
    "    if word not in vocab:\n",
    "        word = '< unk >'\n",
    "        \n",
    "    xstuple = (postags_extracted[i], word)\n",
    "    if xstuple in emission_nums:\n",
    "        emission_nums[xstuple] += 1\n",
    "    else:\n",
    "        emission_nums[xstuple] = 1"
   ]
  },
  {
   "cell_type": "code",
   "execution_count": 205,
   "id": "dde0799c",
   "metadata": {},
   "outputs": [],
   "source": [
    "for key, value in transition_nums.items():\n",
    "    s = key[0]\n",
    "    denom = postag_vocab[s]\n",
    "    transition_nums[key] = float(value/denom)"
   ]
  },
  {
   "cell_type": "code",
   "execution_count": 206,
   "id": "89115335",
   "metadata": {},
   "outputs": [],
   "source": [
    "for key, value in emission_nums.items():\n",
    "    s = key[0]\n",
    "    denom = postag_vocab[s]\n",
    "    emission_nums[key] = float(value/denom)"
   ]
  },
  {
   "cell_type": "code",
   "execution_count": 264,
   "id": "3b66fa9d",
   "metadata": {},
   "outputs": [
    {
     "name": "stdout",
     "output_type": "stream",
     "text": [
      "# of transition parameters:  1378\n",
      "# of emission parameters:  30303\n"
     ]
    }
   ],
   "source": [
    "print(\"# of transition parameters: \", len(transition_nums))\n",
    "print(\"# of emission parameters: \", len(emission_nums))"
   ]
  },
  {
   "cell_type": "code",
   "execution_count": 207,
   "id": "24cc21a7",
   "metadata": {},
   "outputs": [],
   "source": [
    "def tup2str(tup):\n",
    "    s = \"('\" + tup[0] + \"', '\" + tup[1] + \"')\"\n",
    "    return s"
   ]
  },
  {
   "cell_type": "code",
   "execution_count": 208,
   "id": "44e888f4",
   "metadata": {},
   "outputs": [],
   "source": [
    "start_probabilities = {}\n",
    "index_extracted = train['index'].values\n",
    "sentences = 0\n",
    "\n",
    "for i in range(0, len(index_extracted)):\n",
    "    index = index_extracted[i]\n",
    "    pos = postags_extracted[i]\n",
    "    \n",
    "    if pos in start_probabilities:\n",
    "        if index == 1:\n",
    "            sentences += 1\n",
    "            start_probabilities[pos] += 1\n",
    "    else:\n",
    "        if index == 1:\n",
    "            sentences += 1\n",
    "            start_probabilities[pos] = 1"
   ]
  },
  {
   "cell_type": "code",
   "execution_count": 209,
   "id": "987cf63a",
   "metadata": {},
   "outputs": [],
   "source": [
    "sums = 0\n",
    "for key, value in start_probabilities.items():\n",
    "    sums += value\n",
    "    start_probabilities[key] = float(value/sentences)"
   ]
  },
  {
   "cell_type": "code",
   "execution_count": 210,
   "id": "d41149ef",
   "metadata": {},
   "outputs": [],
   "source": [
    "emission_nums_str = {tup2str(key): value for key, value in emission_nums.items()}\n",
    "transition_nums_str = {tup2str(key): value for key, value in transition_nums.items()}"
   ]
  },
  {
   "cell_type": "code",
   "execution_count": 211,
   "id": "b3899bcd",
   "metadata": {},
   "outputs": [],
   "source": [
    "import json\n",
    "\n",
    "hmm = {}\n",
    "hmm['transition'] = transition_nums_str\n",
    "hmm['emission'] = emission_nums_str\n",
    "\n",
    "hmmjson = json.dumps(hmm, indent=4)\n",
    "with open(\"hmm.json\", \"w\") as outfile:\n",
    "    outfile.write(hmmjson)"
   ]
  },
  {
   "cell_type": "markdown",
   "id": "e746acc0",
   "metadata": {},
   "source": [
    "# Task 3: Greedy Decoding with HMM"
   ]
  },
  {
   "cell_type": "code",
   "execution_count": 212,
   "id": "00dbf8b0",
   "metadata": {},
   "outputs": [],
   "source": [
    "dev = pd.read_csv(\"data/dev\", sep='\\t', header=None, names=['index', 'word', 'postag'])"
   ]
  },
  {
   "cell_type": "code",
   "execution_count": 213,
   "id": "88d99df9",
   "metadata": {},
   "outputs": [
    {
     "data": {
      "text/plain": [
       "<bound method DataFrame.info of         index          word postag\n",
       "0           1           The     DT\n",
       "1           2       Arizona    NNP\n",
       "2           3  Corporations    NNP\n",
       "3           4    Commission    NNP\n",
       "4           5    authorized    VBD\n",
       "...       ...           ...    ...\n",
       "131763     13          join     VB\n",
       "131764     14           the     DT\n",
       "131765     15       winning    VBG\n",
       "131766     16        bidder     NN\n",
       "131767     17             .      .\n",
       "\n",
       "[131768 rows x 3 columns]>"
      ]
     },
     "execution_count": 213,
     "metadata": {},
     "output_type": "execute_result"
    }
   ],
   "source": [
    "dev.info"
   ]
  },
  {
   "cell_type": "code",
   "execution_count": 214,
   "id": "133f5ef5",
   "metadata": {},
   "outputs": [
    {
     "data": {
      "text/html": [
       "<div>\n",
       "<style scoped>\n",
       "    .dataframe tbody tr th:only-of-type {\n",
       "        vertical-align: middle;\n",
       "    }\n",
       "\n",
       "    .dataframe tbody tr th {\n",
       "        vertical-align: top;\n",
       "    }\n",
       "\n",
       "    .dataframe thead th {\n",
       "        text-align: right;\n",
       "    }\n",
       "</style>\n",
       "<table border=\"1\" class=\"dataframe\">\n",
       "  <thead>\n",
       "    <tr style=\"text-align: right;\">\n",
       "      <th></th>\n",
       "      <th>index</th>\n",
       "      <th>word</th>\n",
       "      <th>postag</th>\n",
       "    </tr>\n",
       "  </thead>\n",
       "  <tbody>\n",
       "    <tr>\n",
       "      <th>0</th>\n",
       "      <td>1</td>\n",
       "      <td>The</td>\n",
       "      <td>DT</td>\n",
       "    </tr>\n",
       "    <tr>\n",
       "      <th>1</th>\n",
       "      <td>2</td>\n",
       "      <td>Arizona</td>\n",
       "      <td>NNP</td>\n",
       "    </tr>\n",
       "    <tr>\n",
       "      <th>2</th>\n",
       "      <td>3</td>\n",
       "      <td>Corporations</td>\n",
       "      <td>NNP</td>\n",
       "    </tr>\n",
       "    <tr>\n",
       "      <th>3</th>\n",
       "      <td>4</td>\n",
       "      <td>Commission</td>\n",
       "      <td>NNP</td>\n",
       "    </tr>\n",
       "    <tr>\n",
       "      <th>4</th>\n",
       "      <td>5</td>\n",
       "      <td>authorized</td>\n",
       "      <td>VBD</td>\n",
       "    </tr>\n",
       "  </tbody>\n",
       "</table>\n",
       "</div>"
      ],
      "text/plain": [
       "   index          word postag\n",
       "0      1           The     DT\n",
       "1      2       Arizona    NNP\n",
       "2      3  Corporations    NNP\n",
       "3      4    Commission    NNP\n",
       "4      5    authorized    VBD"
      ]
     },
     "execution_count": 214,
     "metadata": {},
     "output_type": "execute_result"
    }
   ],
   "source": [
    "dev.head()"
   ]
  },
  {
   "cell_type": "code",
   "execution_count": 215,
   "id": "cc07cb52",
   "metadata": {},
   "outputs": [],
   "source": [
    "dev_words_extracted = dev['word'].values\n",
    "dev_postags_extracted = dev['postag'].values"
   ]
  },
  {
   "cell_type": "code",
   "execution_count": 216,
   "id": "7ef63e92",
   "metadata": {},
   "outputs": [
    {
     "name": "stdout",
     "output_type": "stream",
     "text": [
      "NNP\n",
      ",\n",
      "CD\n",
      "NNS\n",
      "JJ\n",
      "MD\n",
      "VB\n",
      "DT\n",
      "NN\n",
      "IN\n",
      ".\n",
      "VBZ\n",
      "VBG\n",
      "CC\n",
      "VBD\n",
      "VBN\n",
      "RB\n",
      "TO\n",
      "PRP\n",
      "RBR\n",
      "WDT\n",
      "VBP\n",
      "RP\n",
      "PRP$\n",
      "JJS\n",
      "POS\n",
      "``\n",
      "EX\n",
      "''\n",
      "WP\n",
      ":\n",
      "JJR\n",
      "WRB\n",
      "$\n",
      "NNPS\n",
      "WP$\n",
      "-LRB-\n",
      "-RRB-\n",
      "PDT\n",
      "RBS\n",
      "FW\n",
      "UH\n",
      "SYM\n",
      "LS\n",
      "#\n"
     ]
    }
   ],
   "source": [
    "for postag, value in postag_vocab.items():\n",
    "    print(postag)"
   ]
  },
  {
   "cell_type": "code",
   "execution_count": 238,
   "id": "9a140f54",
   "metadata": {},
   "outputs": [],
   "source": [
    "# GREEDY DECODE\n",
    "\n",
    "def greedy_decoding(words, transition_nums, emission_nums):\n",
    "    postag_preds = []\n",
    "    findmax = {}\n",
    "    word = words[0]\n",
    "    if word not in vocab:\n",
    "        word = '< unk >'\n",
    "        \n",
    "    for postag, value in postag_vocab.items():\n",
    "        tupled_key = (postag, word)\n",
    "        if postag in start_probabilities and tupled_key in emission_nums:\n",
    "            findmax[postag] = start_probabilities[postag] * emission_nums[tupled_key]\n",
    "    last_postag = max(findmax, key=findmax.get)\n",
    "\n",
    "    postag_preds.append(last_postag)\n",
    "    \n",
    "    words_len = words.shape[0]\n",
    "    for i in range(1, words_len):\n",
    "        findmax.clear()\n",
    "        word = words[i]\n",
    "        if word not in vocab:\n",
    "                word = '< unk >'\n",
    "            \n",
    "        for postag, value in postag_vocab.items():          \n",
    "            trans_key = (last_postag, postag)\n",
    "            emiss_key = (postag, word)\n",
    "            if trans_key in transition_nums and emiss_key in emission_nums:\n",
    "                findmax[postag] = transition_nums[trans_key] * emission_nums[emiss_key]\n",
    "\n",
    "        if not findmax:\n",
    "            last_postag = ':'\n",
    "        else:\n",
    "            last_postag = max(findmax, key=findmax.get)\n",
    "        postag_preds.append(last_postag)\n",
    "        \n",
    "    return np.array(postag_preds)\n",
    "    \n",
    "    \n",
    "dev_greedy_preds = greedy_decoding(dev_words_extracted, transition_nums, emission_nums)"
   ]
  },
  {
   "cell_type": "code",
   "execution_count": 239,
   "id": "c31bb771",
   "metadata": {},
   "outputs": [
    {
     "name": "stdout",
     "output_type": "stream",
     "text": [
      "True\n",
      "True\n",
      "True\n"
     ]
    }
   ],
   "source": [
    "print(('DT','NN') in transition_nums)\n",
    "print(('NNP','Arizona') in emission_nums)\n",
    "print(('Corporations') in vocab)"
   ]
  },
  {
   "cell_type": "code",
   "execution_count": 240,
   "id": "28630ed9",
   "metadata": {},
   "outputs": [
    {
     "name": "stdout",
     "output_type": "stream",
     "text": [
      "(131768,)\n"
     ]
    }
   ],
   "source": [
    "print(dev_words_extracted.shape)"
   ]
  },
  {
   "cell_type": "code",
   "execution_count": 241,
   "id": "df175974",
   "metadata": {},
   "outputs": [],
   "source": [
    "def accuracy(preds, trues):\n",
    "    length = preds.shape[0]\n",
    "    right = 0\n",
    "    for i in range(0, length):\n",
    "        if preds[i] == trues[i]:\n",
    "            right += 1\n",
    "            \n",
    "    return float(right/length)\n",
    "        "
   ]
  },
  {
   "cell_type": "code",
   "execution_count": 242,
   "id": "b9d02fc3",
   "metadata": {},
   "outputs": [
    {
     "name": "stdout",
     "output_type": "stream",
     "text": [
      "Accuracy of greedy decoding on dev dataset:  0.93507528383219\n"
     ]
    }
   ],
   "source": [
    "print(\"Accuracy of greedy decoding on dev dataset: \", accuracy(dev_greedy_preds,dev_postags_extracted))"
   ]
  },
  {
   "cell_type": "code",
   "execution_count": 243,
   "id": "c1027a2c",
   "metadata": {},
   "outputs": [
    {
     "name": "stdout",
     "output_type": "stream",
     "text": [
      "131768\n"
     ]
    }
   ],
   "source": [
    "print(dev_greedy_preds.shape[0])"
   ]
  },
  {
   "cell_type": "code",
   "execution_count": 244,
   "id": "41511de2",
   "metadata": {},
   "outputs": [
    {
     "name": "stdout",
     "output_type": "stream",
     "text": [
      "23183\n"
     ]
    }
   ],
   "source": [
    "print(len(vocab))"
   ]
  },
  {
   "cell_type": "code",
   "execution_count": 245,
   "id": "9899901f",
   "metadata": {},
   "outputs": [],
   "source": [
    "# ON TEST DATASET\n",
    "\n",
    "test = pd.read_csv(\"data/test\", sep='\\t', header=None, names=['index', 'word'])"
   ]
  },
  {
   "cell_type": "code",
   "execution_count": 246,
   "id": "a2c9119a",
   "metadata": {},
   "outputs": [
    {
     "data": {
      "text/html": [
       "<div>\n",
       "<style scoped>\n",
       "    .dataframe tbody tr th:only-of-type {\n",
       "        vertical-align: middle;\n",
       "    }\n",
       "\n",
       "    .dataframe tbody tr th {\n",
       "        vertical-align: top;\n",
       "    }\n",
       "\n",
       "    .dataframe thead th {\n",
       "        text-align: right;\n",
       "    }\n",
       "</style>\n",
       "<table border=\"1\" class=\"dataframe\">\n",
       "  <thead>\n",
       "    <tr style=\"text-align: right;\">\n",
       "      <th></th>\n",
       "      <th>index</th>\n",
       "      <th>word</th>\n",
       "    </tr>\n",
       "  </thead>\n",
       "  <tbody>\n",
       "    <tr>\n",
       "      <th>0</th>\n",
       "      <td>1</td>\n",
       "      <td>Influential</td>\n",
       "    </tr>\n",
       "    <tr>\n",
       "      <th>1</th>\n",
       "      <td>2</td>\n",
       "      <td>members</td>\n",
       "    </tr>\n",
       "    <tr>\n",
       "      <th>2</th>\n",
       "      <td>3</td>\n",
       "      <td>of</td>\n",
       "    </tr>\n",
       "    <tr>\n",
       "      <th>3</th>\n",
       "      <td>4</td>\n",
       "      <td>the</td>\n",
       "    </tr>\n",
       "    <tr>\n",
       "      <th>4</th>\n",
       "      <td>5</td>\n",
       "      <td>House</td>\n",
       "    </tr>\n",
       "  </tbody>\n",
       "</table>\n",
       "</div>"
      ],
      "text/plain": [
       "   index         word\n",
       "0      1  Influential\n",
       "1      2      members\n",
       "2      3           of\n",
       "3      4          the\n",
       "4      5        House"
      ]
     },
     "execution_count": 246,
     "metadata": {},
     "output_type": "execute_result"
    }
   ],
   "source": [
    "test.head()"
   ]
  },
  {
   "cell_type": "code",
   "execution_count": 247,
   "id": "ac016385",
   "metadata": {},
   "outputs": [],
   "source": [
    "test_index_extracted = test['index'].values\n",
    "test_words_extracted = test['word'].values"
   ]
  },
  {
   "cell_type": "code",
   "execution_count": null,
   "id": "7d4b6d84",
   "metadata": {},
   "outputs": [],
   "source": []
  },
  {
   "cell_type": "code",
   "execution_count": 248,
   "id": "3eb406de",
   "metadata": {},
   "outputs": [],
   "source": [
    "test_greedy_preds = greedy_decoding(test_words_extracted, transition_nums, emission_nums)"
   ]
  },
  {
   "cell_type": "code",
   "execution_count": 249,
   "id": "43884820",
   "metadata": {},
   "outputs": [
    {
     "name": "stdout",
     "output_type": "stream",
     "text": [
      "129654\n"
     ]
    }
   ],
   "source": [
    "print(test_greedy_preds.shape[0])"
   ]
  },
  {
   "cell_type": "code",
   "execution_count": 250,
   "id": "24836755",
   "metadata": {},
   "outputs": [
    {
     "name": "stdout",
     "output_type": "stream",
     "text": [
      "129654\n"
     ]
    }
   ],
   "source": [
    "print(test_words_extracted.shape[0])"
   ]
  },
  {
   "cell_type": "code",
   "execution_count": 251,
   "id": "d9007ad8",
   "metadata": {},
   "outputs": [],
   "source": [
    "greedytest = open('greedy.out', 'w')\n",
    "\n",
    "s = str(test_index_extracted[0]) + '\\t' + test_words_extracted[0] + '\\t' + test_greedy_preds[0] + '\\n'\n",
    "greedytest.write(s)\n",
    "\n",
    "test_length = test_greedy_preds.shape[0]\n",
    "for i in range(1, test_length):\n",
    "    if test_index_extracted[i] == 1:\n",
    "        greedytest.write('\\n')\n",
    "    s = str(test_index_extracted[i]) + '\\t' + test_words_extracted[i] + '\\t' + test_greedy_preds[i] + '\\n'\n",
    "    greedytest.write(s)\n",
    "        \n",
    "greedytest.close()"
   ]
  },
  {
   "cell_type": "markdown",
   "id": "0d2b5654",
   "metadata": {},
   "source": [
    "# Task 4: Viterbi Decoding with HMM"
   ]
  },
  {
   "cell_type": "code",
   "execution_count": 252,
   "id": "f3590f07",
   "metadata": {},
   "outputs": [
    {
     "name": "stdout",
     "output_type": "stream",
     "text": [
      "['NNP' ',' 'CD' 'NNS' 'JJ' 'MD' 'VB' 'DT' 'NN' 'IN' '.' 'VBZ' 'VBG' 'CC'\n",
      " 'VBD' 'VBN' 'RB' 'TO' 'PRP' 'RBR' 'WDT' 'VBP' 'RP' 'PRP$' 'JJS' 'POS'\n",
      " '``' 'EX' \"''\" 'WP' ':' 'JJR' 'WRB' '$' 'NNPS' 'WP$' '-LRB-' '-RRB-'\n",
      " 'PDT' 'RBS' 'FW' 'UH' 'SYM' 'LS' '#']\n"
     ]
    }
   ],
   "source": [
    "postag_array = np.array(list(postag_vocab.keys()))\n",
    "print(postag_array)"
   ]
  },
  {
   "cell_type": "code",
   "execution_count": 253,
   "id": "512fe7cc",
   "metadata": {},
   "outputs": [
    {
     "name": "stdout",
     "output_type": "stream",
     "text": [
      "(45,)\n"
     ]
    }
   ],
   "source": [
    "print(postag_array.shape)"
   ]
  },
  {
   "cell_type": "code",
   "execution_count": 254,
   "id": "ec59680d",
   "metadata": {},
   "outputs": [],
   "source": [
    "# VITERBI DECODE\n",
    "\n",
    "def viterbi_decoding(words, postag_array, transition_nums, emission_nums):\n",
    "    rows = postag_array.shape[0]\n",
    "    cols = words.shape[0]\n",
    "    \n",
    "    pi = np.zeros((cols,rows), dtype=np.float128)\n",
    "    prevs = np.zeros((cols, rows), dtype=int)\n",
    "    \n",
    "    word = words[0]\n",
    "    if word not in vocab:\n",
    "            word = '< unk >'\n",
    "    \n",
    "    for i in range(0, rows):\n",
    "        postag = postag_array[i]\n",
    "        \n",
    "        start_prob = 0\n",
    "        if postag in start_probabilities:\n",
    "            start_prob = start_probabilities[postag]\n",
    "            \n",
    "        emission_prob = 0\n",
    "        emiss_key = (postag, word)\n",
    "        if emiss_key in emission_nums:\n",
    "            emission_prob = emission_nums[emiss_key]\n",
    "            \n",
    "        pi[0,i] = start_prob * emission_prob\n",
    "        \n",
    "    words_len = words.shape[0]\n",
    "    \n",
    "    for j in range(1, words_len):\n",
    "        word = words[j]\n",
    "        if word not in vocab:\n",
    "            word = '< unk >'\n",
    "        for s in range(0, rows):\n",
    "            postag = postag_array[s]\n",
    "            findmax = []\n",
    "            for sprime in range(0, rows):\n",
    "                past_postag = postag_array[sprime]\n",
    "\n",
    "                trans_prob = 0\n",
    "                trans_key = (past_postag, postag)\n",
    "                if trans_key in transition_nums:\n",
    "                    trans_prob = transition_nums[trans_key]\n",
    "\n",
    "                emission_prob = 0\n",
    "                emiss_key = (postag, word)\n",
    "                if emiss_key in emission_nums:\n",
    "                    emission_prob = emission_nums[emiss_key]\n",
    "                    \n",
    "                pivalue = pi[j-1,sprime] + np.log(trans_prob + 0.00000001) + np.log(emission_prob + 0.00000001)\n",
    "                \n",
    "                findmax.append(pivalue)\n",
    "                \n",
    "            findmax = np.array(findmax)\n",
    "            maxval = np.max(findmax)\n",
    "            max_sprime = np.argmax(findmax)\n",
    "            \n",
    "            pi[j,s] = maxval\n",
    "            prevs[j,s] = max_sprime\n",
    "            \n",
    "    return pi, prevs\n",
    "            \n",
    "            \n",
    "            \n",
    "        \n",
    "pi, prevs = viterbi_decoding(dev_words_extracted, postag_array, transition_nums, emission_nums)"
   ]
  },
  {
   "cell_type": "code",
   "execution_count": 255,
   "id": "9185968e",
   "metadata": {},
   "outputs": [],
   "source": [
    "last = pi[prevs.shape[0] - 1,:]\n",
    "\n",
    "def reverse_traverse(last, prevs, postag_array):\n",
    "    viterbi_preds = []\n",
    "    last_index = np.argmax(last)\n",
    "    viterbi_preds.append(postag_array[last_index])\n",
    "    \n",
    "    length = prevs.shape[0]\n",
    "    \n",
    "    for i in reversed(range(1,length)):\n",
    "        index = prevs[i,last_index]\n",
    "        viterbi_preds.append(postag_array[index])\n",
    "        last_index = index\n",
    "        \n",
    "    viterbi_preds = viterbi_preds[::-1]\n",
    "    return np.array(viterbi_preds)\n",
    "    \n",
    "viterbi_preds = reverse_traverse(last, prevs, postag_array)"
   ]
  },
  {
   "cell_type": "code",
   "execution_count": 256,
   "id": "5ae8bfed",
   "metadata": {},
   "outputs": [
    {
     "name": "stdout",
     "output_type": "stream",
     "text": [
      "['DT' 'NNP' 'NNP' 'NNP' 'VBD' 'DT' 'CD' 'NN' 'NN' 'NN' 'IN' 'NNP' 'NNP'\n",
      " 'NNP' 'NNP' ',' 'RB' 'JJR' 'IN' 'VBN' 'JJ' 'NN' 'IN' 'DT' 'NN' 'NN' 'NN'\n",
      " 'CC' 'RB' 'PDT' 'DT' 'NN' 'VBN' 'IN' 'DT' 'NN' '.']\n"
     ]
    }
   ],
   "source": [
    "print(dev_postags_extracted[:37])\n"
   ]
  },
  {
   "cell_type": "code",
   "execution_count": 257,
   "id": "afd4013d",
   "metadata": {},
   "outputs": [
    {
     "name": "stdout",
     "output_type": "stream",
     "text": [
      "Accuracy of viterbi decoding on dev dataset:  0.9480754052577257\n"
     ]
    }
   ],
   "source": [
    "print(\"Accuracy of viterbi decoding on dev dataset: \", accuracy(viterbi_preds, dev_postags_extracted))"
   ]
  },
  {
   "cell_type": "code",
   "execution_count": 258,
   "id": "9cfddb23",
   "metadata": {},
   "outputs": [
    {
     "name": "stdout",
     "output_type": "stream",
     "text": [
      "['NNP' 'NNP' 'NNS' ... 'JJ' 'NN' '.']\n"
     ]
    }
   ],
   "source": [
    "print(viterbi_preds)"
   ]
  },
  {
   "cell_type": "code",
   "execution_count": 259,
   "id": "484235d6",
   "metadata": {},
   "outputs": [],
   "source": [
    "test_pi, test_prevs = viterbi_decoding(test_words_extracted, postag_array, transition_nums, emission_nums)"
   ]
  },
  {
   "cell_type": "code",
   "execution_count": 260,
   "id": "150d3563",
   "metadata": {},
   "outputs": [],
   "source": [
    "test_last = test_pi[test_prevs.shape[0] - 1,:]"
   ]
  },
  {
   "cell_type": "code",
   "execution_count": 261,
   "id": "1c512321",
   "metadata": {},
   "outputs": [],
   "source": [
    "test_viterbi_preds = reverse_traverse(test_last, test_prevs, postag_array)"
   ]
  },
  {
   "cell_type": "code",
   "execution_count": 262,
   "id": "b33cc76b",
   "metadata": {},
   "outputs": [
    {
     "name": "stdout",
     "output_type": "stream",
     "text": [
      "(129654,)\n"
     ]
    }
   ],
   "source": [
    "print(test_viterbi_preds.shape)"
   ]
  },
  {
   "cell_type": "code",
   "execution_count": 263,
   "id": "a9573fb4",
   "metadata": {},
   "outputs": [],
   "source": [
    "viterbitest = open('viterbi.out', 'w')\n",
    "\n",
    "s = str(test_index_extracted[0]) + '\\t' + test_words_extracted[0] + '\\t' + test_viterbi_preds[0] + '\\n'\n",
    "viterbitest.write(s)\n",
    "\n",
    "test_length = test_viterbi_preds.shape[0]\n",
    "for i in range(1, test_length):\n",
    "    if test_index_extracted[i] == 1:\n",
    "        viterbitest.write('\\n')\n",
    "    s = str(test_index_extracted[i]) + '\\t' + test_words_extracted[i] + '\\t' + test_viterbi_preds[i] + '\\n'\n",
    "    viterbitest.write(s)\n",
    "        \n",
    "viterbitest.close()"
   ]
  }
 ],
 "metadata": {
  "kernelspec": {
   "display_name": "Python 3 (ipykernel)",
   "language": "python",
   "name": "python3"
  },
  "language_info": {
   "codemirror_mode": {
    "name": "ipython",
    "version": 3
   },
   "file_extension": ".py",
   "mimetype": "text/x-python",
   "name": "python",
   "nbconvert_exporter": "python",
   "pygments_lexer": "ipython3",
   "version": "3.9.7"
  }
 },
 "nbformat": 4,
 "nbformat_minor": 5
}
